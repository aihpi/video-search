{
 "cells": [
  {
   "cell_type": "markdown",
   "id": "589400f5",
   "metadata": {},
   "source": [
    "# Introduction to embeddings"
   ]
  },
  {
   "cell_type": "code",
   "execution_count": null,
   "id": "08ce2e6d",
   "metadata": {},
   "outputs": [],
   "source": []
  },
  {
   "cell_type": "markdown",
   "id": "c8d590f6",
   "metadata": {},
   "source": [
    "##"
   ]
  },
  {
   "cell_type": "markdown",
   "id": "4ed23c20",
   "metadata": {},
   "source": [
    "## 1. Tokenisation"
   ]
  },
  {
   "cell_type": "code",
   "execution_count": null,
   "id": "18d6a207",
   "metadata": {},
   "outputs": [],
   "source": []
  },
  {
   "cell_type": "markdown",
   "id": "cf3251c0",
   "metadata": {},
   "source": [
    "## 2. Embedding Lookup"
   ]
  },
  {
   "cell_type": "code",
   "execution_count": null,
   "id": "b9cd80e9",
   "metadata": {},
   "outputs": [],
   "source": []
  },
  {
   "cell_type": "markdown",
   "id": "41a8d4d4",
   "metadata": {},
   "source": [
    "## 3. Positional Embeddings"
   ]
  }
 ],
 "metadata": {
  "kernelspec": {
   "display_name": ".venv",
   "language": "python",
   "name": "python3"
  },
  "language_info": {
   "name": "python",
   "version": "3.10.12"
  }
 },
 "nbformat": 4,
 "nbformat_minor": 5
}
